{
  "nbformat": 4,
  "nbformat_minor": 0,
  "metadata": {
    "colab": {
      "provenance": []
    },
    "kernelspec": {
      "name": "python3",
      "display_name": "Python 3"
    },
    "language_info": {
      "name": "python"
    }
  },
  "cells": [
    {
      "cell_type": "code",
      "source": [
        "def max_freq(a):\n",
        "    most_frequent = max(set(a), key=a.count)\n",
        "    print(\"The element with the highest frequency is:\", most_frequent)\n",
        "    print(\"Frequency:\", a.count(most_frequent))\n",
        "\n",
        "a = [1, 1, 2, 2, 3, 1, 3, 4, 2, 1, 2, 43, 2, 1, 4, 1, 3]\n",
        "max_freq(a)\n"
      ],
      "metadata": {
        "id": "eqSnWE0C0_zK",
        "colab": {
          "base_uri": "https://localhost:8080/"
        },
        "outputId": "acf1571a-973a-4f61-842b-d7f923590228"
      },
      "execution_count": null,
      "outputs": [
        {
          "output_type": "stream",
          "name": "stdout",
          "text": [
            "The element with the highest frequency is: 1\n",
            "Frequency: 6\n"
          ]
        }
      ]
    },
    {
      "cell_type": "code",
      "source": [
        "def find_missing_number(arr):\n",
        "    n = len(arr) + 1\n",
        "    expected_sum = n * (n + 1) // 2\n",
        "    actual_sum = sum(arr)\n",
        "    missing_number = expected_sum - actual_sum\n",
        "    return missing_number\n",
        "\n",
        "arr=[1,2,3,5,6,7,8,9]\n",
        "find_missing_number(arr)"
      ],
      "metadata": {
        "colab": {
          "base_uri": "https://localhost:8080/"
        },
        "id": "j88IYRAkbbgY",
        "outputId": "699a5334-51b9-4d94-89bd-d80c70832db9"
      },
      "execution_count": null,
      "outputs": [
        {
          "output_type": "execute_result",
          "data": {
            "text/plain": [
              "4"
            ]
          },
          "metadata": {},
          "execution_count": 3
        }
      ]
    },
    {
      "cell_type": "code",
      "source": [
        "def find_odd_occurrence(arr):\n",
        "    result = 0\n",
        "    for i in arr:\n",
        "        result ^= i\n",
        "    return result\n",
        "\n",
        "\n",
        "arr = [1, 2, 3, 2, 3, 1, 3, 2, 3]\n",
        "odd_number = find_odd_occurrence(arr)\n",
        "print(\"The number that occurs an odd number of times is:\", odd_number)\n"
      ],
      "metadata": {
        "colab": {
          "base_uri": "https://localhost:8080/"
        },
        "id": "db1Sx5G9dnsL",
        "outputId": "378f76ef-5e13-400b-f3e2-c4a77f0025de"
      },
      "execution_count": null,
      "outputs": [
        {
          "output_type": "stream",
          "name": "stdout",
          "text": [
            "The number that occurs an odd number of times is: 2\n"
          ]
        }
      ]
    },
    {
      "cell_type": "code",
      "source": [
        "def find_sum_of_k(arr):\n",
        "  k=20\n",
        "  for i in arr:\n",
        "    for j in arr[1:-1]:\n",
        "      if i+j==k:\n",
        "        print(f\"The element found is:{i} + {j} ={k}\")\n",
        "arr=[1,2,3,4,5,6,7,8,9,11,2,1,12,31,34]\n",
        "find_sum_of_k(arr)"
      ],
      "metadata": {
        "colab": {
          "base_uri": "https://localhost:8080/"
        },
        "id": "qOZl_xlxenYI",
        "outputId": "3125e708-635d-4b14-ed41-2619e67cade8"
      },
      "execution_count": null,
      "outputs": [
        {
          "output_type": "stream",
          "name": "stdout",
          "text": [
            "The element found is:8 + 12 =20\n",
            "The element found is:9 + 11 =20\n",
            "The element found is:11 + 9 =20\n",
            "The element found is:12 + 8 =20\n"
          ]
        }
      ]
    },
    {
      "cell_type": "code",
      "source": [
        "def find_sum_of_k(arr, k=20):\n",
        "    arr.sort()\n",
        "    i, j = 0, len(arr) - 1\n",
        "\n",
        "    while i < j:\n",
        "        current_sum = arr[i] + arr[j]\n",
        "        if current_sum == k:\n",
        "            print(f\"The elements found are: {arr[i]} + {arr[j]} = {k}\")\n",
        "            return\n",
        "        elif current_sum < k:\n",
        "            i += 1\n",
        "        else:\n",
        "            j -= 1\n",
        "    print(\"No elements found\")\n",
        "arr = [1, 2, 3, 4, 5, 6, 7, 8, 9, 11, 2, 1, 12, 31, 34]\n",
        "find_sum_of_k(arr)\n"
      ],
      "metadata": {
        "colab": {
          "base_uri": "https://localhost:8080/"
        },
        "id": "qgVSQanbf8nA",
        "outputId": "7853d9ac-847c-489a-e019-627fe1b2e284"
      },
      "execution_count": null,
      "outputs": [
        {
          "output_type": "stream",
          "name": "stdout",
          "text": [
            "The elements found are: 8 + 12 = 20\n"
          ]
        }
      ]
    },
    {
      "cell_type": "code",
      "source": [
        "def find_closet(arr,k=range(-5,6)):\n",
        "  arr.sort()\n",
        "  i,j=0,len(arr)-1\n",
        "  while i<j:\n",
        "    current_sum=arr[i]+arr[j]\n",
        "    if current_sum in k:\n",
        "      print(f\"The elements found are:{arr[i]} + {arr[j]} ={current_sum} which is closer to 0\")\n",
        "      return\n",
        "    elif current_sum<k[0]:\n",
        "      i+=1\n",
        "    else:\n",
        "      j-=1\n",
        "  print('No elements found!')\n",
        "arr=[-30,28,12,-10,35,20,7,17,-33,-10]\n",
        "find_closet(arr)"
      ],
      "metadata": {
        "colab": {
          "base_uri": "https://localhost:8080/"
        },
        "id": "ZR3H57q6hQz4",
        "outputId": "f4952549-24da-4151-8984-cbb582bea496"
      },
      "execution_count": null,
      "outputs": [
        {
          "output_type": "stream",
          "name": "stdout",
          "text": [
            "The elements found are:-33 + 35 =2 which is closer to 0\n"
          ]
        }
      ]
    },
    {
      "cell_type": "code",
      "source": [
        "def find_triplet_element(arr,t=20):\n",
        "  arr.sort()\n",
        "  n=len(arr)\n",
        "\n",
        "  for i in range(n-2):\n",
        "    left=i+1\n",
        "    right=n-1\n",
        "    while left < right:\n",
        "      current_sum=arr[i]+arr[left]+arr[right]\n",
        "      if current_sum==t:\n",
        "        print(f\"We got the elements {arr[i]} + {arr[left]} + {arr[right]}={t}\")\n",
        "        return\n",
        "      elif current_sum<t:\n",
        "        left+=1\n",
        "      else:\n",
        "        right-=1\n",
        "\n",
        "    print(\"NO triplets found\")\n",
        "arr=[2,8,10,15,5,7,7,6,4,10]\n",
        "find_triplet_element(arr)"
      ],
      "metadata": {
        "id": "nYy3DXphlBEK",
        "colab": {
          "base_uri": "https://localhost:8080/"
        },
        "outputId": "bbf9594d-b047-47b3-ebad-86d8dc6ecbd2"
      },
      "execution_count": 18,
      "outputs": [
        {
          "output_type": "stream",
          "name": "stdout",
          "text": [
            "We got the elements 2 + 8 + 10=20\n"
          ]
        }
      ]
    },
    {
      "cell_type": "code",
      "source": [
        "def find_triple_eq(arr):\n",
        "  arr.sort()\n",
        "  n=len(arr)\n",
        "  for k in range(n - 1, 1, -1):\n",
        "    i=0\n",
        "    j=k-1\n",
        "    while i<j:\n",
        "      current_sum=arr[i]**2+arr[j]**2\n",
        "      if current_sum==arr[k]**2:\n",
        "        print(f\"we got the element  {arr[i]} * {arr[i]} + {arr[j]} * {arr[j]} = {arr[k]}* {arr[k]} ,which is i*i+j*j=k*k\")\n",
        "        return\n",
        "      if current_sum<arr[k]**2:\n",
        "          i+=1\n",
        "      else:\n",
        "          j-=1\n",
        "  print('No triplets found')\n",
        "\n",
        "arr=[3,1,4,6,5]\n",
        "find_triple_eq(arr)"
      ],
      "metadata": {
        "colab": {
          "base_uri": "https://localhost:8080/"
        },
        "id": "prM6xQdapHyj",
        "outputId": "74239757-49a9-4fdf-8e54-c051f4f0fef1"
      },
      "execution_count": 34,
      "outputs": [
        {
          "output_type": "stream",
          "name": "stdout",
          "text": [
            "we got the element  3 * 3 + 4 * 4 = 5* 5 ,which is i*i+j*j=k*k\n"
          ]
        }
      ]
    },
    {
      "cell_type": "code",
      "source": [
        "def find_majority(arr):\n",
        "    n = len(arr)\n",
        "    count = 0\n",
        "    candidate = None\n",
        "\n",
        "    for num in arr:\n",
        "        if count == 0:\n",
        "            candidate = num\n",
        "        count += (1 if num == candidate else -1)\n",
        "    count = 0\n",
        "    for num in arr:\n",
        "        if num == candidate:\n",
        "            count += 1\n",
        "    if count > n // 2:\n",
        "        print(\"The majority element is\", candidate)\n",
        "    else:\n",
        "        print(\"No majority element found\")\n",
        "arr = [2, 2, 2, 3, 3, 2, 2]\n",
        "find_majority(arr)\n"
      ],
      "metadata": {
        "colab": {
          "base_uri": "https://localhost:8080/"
        },
        "id": "uLu6fTLUpIe3",
        "outputId": "70743ff7-dfd7-40fa-ed04-fe4b50bbb0d2"
      },
      "execution_count": 38,
      "outputs": [
        {
          "output_type": "stream",
          "name": "stdout",
          "text": [
            "The majority element is 2\n"
          ]
        }
      ]
    },
    {
      "cell_type": "code",
      "source": [
        "def find_row_with_max_zeros(matrix):\n",
        "    n = len(matrix)\n",
        "    max_zeros_row = -1\n",
        "    max_zeros_count = -1\n",
        "    j = n - 1\n",
        "    for i in range(n):\n",
        "        while j >= 0 and matrix[i][j] == 0:\n",
        "            j -= 1\n",
        "\n",
        "        num_zeros = n - 1 - j\n",
        "        if num_zeros > max_zeros_count:\n",
        "            max_zeros_count = num_zeros\n",
        "            max_zeros_row = i\n",
        "\n",
        "    return max_zeros_row\n",
        "matrix = [\n",
        "    [1, 1, 1, 0, 0],\n",
        "    [1, 1, 0, 0, 0],\n",
        "    [1, 0, 0, 0, 0],\n",
        "    [0, 0, 0, 0, 0]\n",
        "]\n",
        "row = find_row_with_max_zeros(matrix)\n",
        "print(\"The row with the maximum number of 0's is:\", row)\n"
      ],
      "metadata": {
        "colab": {
          "base_uri": "https://localhost:8080/"
        },
        "id": "AdYNHHFxrgtY",
        "outputId": "fcb614bd-6e2e-4bcd-f563-ced18137b8a2"
      },
      "execution_count": 39,
      "outputs": [
        {
          "output_type": "stream",
          "name": "stdout",
          "text": [
            "The row with the maximum number of 0's is: 3\n"
          ]
        }
      ]
    },
    {
      "cell_type": "code",
      "source": [
        "def sort_arr(arr):\n",
        "    n = len(arr)\n",
        "    for i in range(n):\n",
        "        swapped = False\n",
        "        for j in range(0, n - i - 1):\n",
        "            if arr[j] > arr[j + 1]:\n",
        "                arr[j], arr[j + 1] = arr[j + 1], arr[j]\n",
        "                swapped = True\n",
        "        if not swapped:\n",
        "            print(\"The array is sorted:\", arr)\n",
        "            return\n",
        "    print(\"The array is sorted:\", arr)\n",
        "arr = [0, 0, 0, 2, 1, 2, 1, 0, 0, 2, 1, 1, 1, 0, 0, 0, 2, 2, 2, 2]\n",
        "sort_arr(arr)\n"
      ],
      "metadata": {
        "colab": {
          "base_uri": "https://localhost:8080/"
        },
        "id": "f91CAkBvuH_R",
        "outputId": "66ac0fb3-36b4-47cc-eff3-f8e72f7bcef1"
      },
      "execution_count": 48,
      "outputs": [
        {
          "output_type": "stream",
          "name": "stdout",
          "text": [
            "The array is sorted: [0, 0, 0, 0, 0, 0, 0, 0, 1, 1, 1, 1, 1, 2, 2, 2, 2, 2, 2, 2]\n"
          ]
        }
      ]
    },
    {
      "cell_type": "code",
      "source": [],
      "metadata": {
        "id": "Ov7PGU37vwcE"
      },
      "execution_count": null,
      "outputs": []
    }
  ]
}